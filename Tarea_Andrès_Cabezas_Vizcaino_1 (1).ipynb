{
  "nbformat": 4,
  "nbformat_minor": 0,
  "metadata": {
    "colab": {
      "provenance": []
    },
    "kernelspec": {
      "name": "python3",
      "display_name": "Python 3"
    },
    "language_info": {
      "name": "python"
    }
  },
  "cells": [
    {
      "cell_type": "code",
      "execution_count": null,
      "metadata": {
        "colab": {
          "base_uri": "https://localhost:8080/"
        },
        "id": "KjzhpvLE880e",
        "outputId": "d7e40a85-07ad-4ee4-964a-626057d8ef5e"
      },
      "outputs": [
        {
          "output_type": "stream",
          "name": "stdout",
          "text": [
            "Ejercicio Bisiesto\n",
            "Ingrese el año:2023\n",
            "El año no es Bisiesto\n"
          ]
        }
      ],
      "source": [
        "print(\"Ejercicio Bisiesto\")\n",
        "anio=int(input(\"Ingrese el año:\"))\n",
        "if(anio % 400 == 0)or (anio %4 == 0) and (anio % 100 != 0):\n",
        "    print(\"El año es Bisiesto\")\n",
        "else:\n",
        "    print(\"El año no es Bisiesto\")"
      ]
    },
    {
      "cell_type": "code",
      "source": [
        "C=-1\n",
        "I=0\n",
        "M=0\n",
        "while(C<0) or (I<=0) or (I>=100) or (M<=0):\n",
        "    print(\"Introduce el capital, el iteres, y el tiempo apropiados\")\n",
        "    C=int(input(\"Capital: \"))\n",
        "    I=int(input(\"Interes :\"))\n",
        "    M=int(input(\"Tiempo en Annios: \"))\n",
        "for i in range(M):\n",
        "  C=C*(1+I/100)\n",
        "  print(\"Monto\", C,\"Colones\")"
      ],
      "metadata": {
        "colab": {
          "base_uri": "https://localhost:8080/"
        },
        "id": "69_l_-9P97ap",
        "outputId": "f8fc44b1-b415-4621-c81f-2ad644d950ea"
      },
      "execution_count": null,
      "outputs": [
        {
          "output_type": "stream",
          "name": "stdout",
          "text": [
            "Introduce el capital, el iteres, y el tiempo apropiados\n",
            "Capital: 100\n",
            "Interes :5\n",
            "Tiempo en Annios: 10\n",
            "Monto 105.0 Colones\n",
            "Monto 110.25 Colones\n",
            "Monto 115.7625 Colones\n",
            "Monto 121.55062500000001 Colones\n",
            "Monto 127.62815625000002 Colones\n",
            "Monto 134.00956406250003 Colones\n",
            "Monto 140.71004226562505 Colones\n",
            "Monto 147.74554437890632 Colones\n",
            "Monto 155.13282159785163 Colones\n",
            "Monto 162.8894626777442 Colones\n"
          ]
        }
      ]
    },
    {
      "cell_type": "code",
      "source": [
        "print(\"Digite un numero\")\n",
        "numero=int(input(\"Numero: \"))\n",
        "\n",
        "while numero>0:\n",
        "    Suma=0\n",
        "    for i in range(1,numero+1):\n",
        "        if(numero % i==0):\n",
        "            Suma=Suma + i\n",
        "    print(Suma)\n",
        "    numero=int(input(\"Numero: \"))"
      ],
      "metadata": {
        "colab": {
          "base_uri": "https://localhost:8080/"
        },
        "id": "pVWszjbd_BgX",
        "outputId": "e3aa6daf-e13d-489c-c060-b00a5c15cdf6"
      },
      "execution_count": null,
      "outputs": [
        {
          "output_type": "stream",
          "name": "stdout",
          "text": [
            "Digite un numero\n",
            "Numero: 10\n",
            "18\n"
          ]
        }
      ]
    },
    {
      "cell_type": "code",
      "source": [
        "vector=[35,34,33,32,27,25,21]\n",
        "\n",
        "suma = 0\n",
        "for i in vector:\n",
        "  suma += i\n",
        "\n",
        "print(\"Media: \", suma/len(vector))"
      ],
      "metadata": {
        "colab": {
          "base_uri": "https://localhost:8080/"
        },
        "id": "dccHZrTc32IC",
        "outputId": "4edcae0e-9cf3-4269-ef23-35ef3726b71b"
      },
      "execution_count": 4,
      "outputs": [
        {
          "output_type": "stream",
          "name": "stdout",
          "text": [
            "Media:  29.571428571428573\n"
          ]
        }
      ]
    }
  ]
}