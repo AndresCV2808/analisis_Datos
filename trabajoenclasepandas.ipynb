{
  "nbformat": 4,
  "nbformat_minor": 0,
  "metadata": {
    "colab": {
      "provenance": [],
      "authorship_tag": "ABX9TyPX4C2CqZoz5EUpoZoaS6aE",
      "include_colab_link": true
    },
    "kernelspec": {
      "name": "python3",
      "display_name": "Python 3"
    },
    "language_info": {
      "name": "python"
    }
  },
  "cells": [
    {
      "cell_type": "markdown",
      "metadata": {
        "id": "view-in-github",
        "colab_type": "text"
      },
      "source": [
        "<a href=\"https://colab.research.google.com/github/AndresCV2808/analisis_Datos/blob/main/trabajoenclasepandas.ipynb\" target=\"_parent\"><img src=\"https://colab.research.google.com/assets/colab-badge.svg\" alt=\"Open In Colab\"/></a>"
      ]
    },
    {
      "cell_type": "code",
      "execution_count": null,
      "metadata": {
        "colab": {
          "base_uri": "https://localhost:8080/"
        },
        "id": "9d1lX-u4Xppt",
        "outputId": "74c8c13a-96e8-4256-bb5a-7192c0a16f22"
      },
      "outputs": [
        {
          "output_type": "stream",
          "name": "stdout",
          "text": [
            "       Country      Capital    Population \n",
            "0   Costa Rica     San José        4500000\n",
            "1        India    New Delhi     1303171035\n",
            "2       Brazil     Brasilia      207847528\n"
          ]
        }
      ],
      "source": [
        "import pandas as pd\n",
        "\n",
        "data = { ' Country ' : [ ' Costa Rica ' , ' India ' , ' Brazil ' ] ,\n",
        "\n",
        "' Capital ' : [ ' San José ' , ' New Delhi ' , ' Brasilia ' ] ,\n",
        "\n",
        "' Population ' : [ 4500000 , 1303171035 , 207847528 ] }\n",
        "\n",
        "df = pd.DataFrame ( data , columns = [ ' Country ' , ' Capital ' , ' Population ' ] )\n",
        "print ( df )"
      ]
    },
    {
      "cell_type": "code",
      "source": [
        "print ( \" Promedio de los elementos del vector \" )\n",
        "Suma=0\n",
        "Media = 0\n",
        "Temp= [ ]\n",
        "print ( \" Ingrese cantidad de Temperaturas \" )\n",
        "N=int ( input() )\n",
        "\n",
        "for i in range (N):\n",
        "    temperatura = float ( input ( \"Ingrese la temperatura \" ) )\n",
        "    Temp.append ( temperatura )\n",
        "    Suma =Suma + Temp [i]\n",
        "Media = Suma / N\n",
        "print ( Media )"
      ],
      "metadata": {
        "colab": {
          "base_uri": "https://localhost:8080/"
        },
        "id": "97GOwDKLYiwW",
        "outputId": "89216660-f0ee-46eb-bb14-7ea21c6e25f4"
      },
      "execution_count": null,
      "outputs": [
        {
          "output_type": "stream",
          "name": "stdout",
          "text": [
            " Promedio de los elementos del vector \n",
            " Ingrese cantidad de Temperaturas \n",
            "10\n",
            "Ingrese la temperatura 10\n",
            "Ingrese la temperatura 10\n",
            "Ingrese la temperatura 20\n",
            "Ingrese la temperatura 20\n",
            "Ingrese la temperatura 2\n",
            "Ingrese la temperatura 2\n",
            "Ingrese la temperatura 2\n",
            "Ingrese la temperatura 2\n",
            "Ingrese la temperatura 2\n",
            "Ingrese la temperatura 2\n",
            "7.2\n"
          ]
        }
      ]
    },
    {
      "cell_type": "code",
      "source": [
        "import pandas as pd\n",
        "\n",
        "mascota = pd.DataFrame(\n",
        "    data={\n",
        "        'name': ['Pussy', 'Milo', 'Snoppy', 'White', 'LittlePony'], \n",
        "        'type': ['cat', 'dog', 'dog', 'dog', 'horse' ]\n",
        "    },\n",
        "    index=[71, 42, 11, 98, 42]\n",
        ")\n",
        "\n",
        "visitas = pd.DataFrame(\n",
        "    data={\n",
        "        'pet_id': [42, 31, 71, 42, 98, 42], \n",
        "        'date': ['2019-03-15', '2019-03-15', '2019-04-05', '2019-04-06', '2019-04-12','2019-04-12'],\n",
        "        'costo': [2000, 5000, 1000, 5000, 6000, 10000]\n",
        "    }\n",
        ")\n",
        "\n",
        "mascota.index.rename('pet_id', inplace=True)\n",
        "visitas.index.rename('visit_id', inplace=True)\n",
        "\n",
        "print(mascota.query('pet_id==71'))\n",
        "print(visitas['costo'].sum())\n",
        "print(visitas['costo'].min())\n",
        "print(visitas['costo'].max())\n",
        "\n",
        "print(visitas)\n",
        "\n",
        "#print(visitas.sort_values(by='costo',ascending=False))\n"
      ],
      "metadata": {
        "colab": {
          "base_uri": "https://localhost:8080/"
        },
        "id": "JdvhFZSDc1O8",
        "outputId": "014bc043-3cfc-48c2-ceac-75033db792a8"
      },
      "execution_count": null,
      "outputs": [
        {
          "output_type": "stream",
          "name": "stdout",
          "text": [
            "         name type\n",
            "pet_id            \n",
            "71      Pussy  cat\n",
            "29000\n",
            "1000\n",
            "10000\n",
            "          pet_id        date  costo\n",
            "visit_id                           \n",
            "0             42  2019-03-15   2000\n",
            "1             31  2019-03-15   5000\n",
            "2             71  2019-04-05   1000\n",
            "3             42  2019-04-06   5000\n",
            "4             98  2019-04-12   6000\n",
            "5             42  2019-04-12  10000\n"
          ]
        }
      ]
    }
  ]
}